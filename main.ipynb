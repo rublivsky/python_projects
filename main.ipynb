{
 "cells": [
  {
   "cell_type": "code",
   "execution_count": 13,
   "metadata": {},
   "outputs": [],
   "source": [
    "import pandas as pd\n",
    "import numpy as np\n",
    "import matplotlib.pyplot as plt\n",
    "import seaborn as sns\n",
    "import json"
   ]
  },
  {
   "cell_type": "code",
   "execution_count": 14,
   "metadata": {},
   "outputs": [],
   "source": [
    "with open(\"test_dp.txt\", \"r\") as file:\n",
    "    data = json.load(file)\n",
    "\n",
    "df = pd.DataFrame(data)"
   ]
  },
  {
   "cell_type": "code",
   "execution_count": 15,
   "metadata": {},
   "outputs": [
    {
     "name": "stdout",
     "output_type": "stream",
     "text": [
      "<class 'pandas.core.frame.DataFrame'>\n",
      "RangeIndex: 49978 entries, 0 to 49977\n",
      "Data columns (total 18 columns):\n",
      " #   Column                        Non-Null Count  Dtype  \n",
      "---  ------                        --------------  -----  \n",
      " 0   id                            49978 non-null  int64  \n",
      " 1   punishmentType                49978 non-null  object \n",
      " 2   entityType                    49978 non-null  object \n",
      " 3   indLastNameOnOffenseMoment    49974 non-null  object \n",
      " 4   indFirstNameOnOffenseMoment   49974 non-null  object \n",
      " 5   indPatronymicOnOffenseMoment  49869 non-null  object \n",
      " 6   offenseId                     41505 non-null  float64\n",
      " 7   offenseName                   49974 non-null  object \n",
      " 8   punishment                    45991 non-null  object \n",
      " 9   courtCaseNumber               46124 non-null  object \n",
      " 10  sentenceDate                  47506 non-null  object \n",
      " 11  sentenceNumber                42792 non-null  object \n",
      " 12  punishmentStart               47080 non-null  object \n",
      " 13  courtId                       47504 non-null  float64\n",
      " 14  courtName                     47504 non-null  object \n",
      " 15  codexArticles                 47443 non-null  object \n",
      " 16  decreeDate                    2471 non-null   object \n",
      " 17  decreeNumber                  2472 non-null   object \n",
      "dtypes: float64(2), int64(1), object(15)\n",
      "memory usage: 6.9+ MB\n"
     ]
    }
   ],
   "source": [
    "df.info()"
   ]
  },
  {
   "cell_type": "code",
   "execution_count": 16,
   "metadata": {},
   "outputs": [
    {
     "data": {
      "text/html": [
       "<div>\n",
       "<style scoped>\n",
       "    .dataframe tbody tr th:only-of-type {\n",
       "        vertical-align: middle;\n",
       "    }\n",
       "\n",
       "    .dataframe tbody tr th {\n",
       "        vertical-align: top;\n",
       "    }\n",
       "\n",
       "    .dataframe thead th {\n",
       "        text-align: right;\n",
       "    }\n",
       "</style>\n",
       "<table border=\"1\" class=\"dataframe\">\n",
       "  <thead>\n",
       "    <tr style=\"text-align: right;\">\n",
       "      <th></th>\n",
       "      <th>id</th>\n",
       "      <th>offenseId</th>\n",
       "      <th>courtId</th>\n",
       "    </tr>\n",
       "  </thead>\n",
       "  <tbody>\n",
       "    <tr>\n",
       "      <th>count</th>\n",
       "      <td>49978.000000</td>\n",
       "      <td>41505.000000</td>\n",
       "      <td>47504.000000</td>\n",
       "    </tr>\n",
       "    <tr>\n",
       "      <th>mean</th>\n",
       "      <td>138816.287807</td>\n",
       "      <td>82377.901650</td>\n",
       "      <td>11121.930195</td>\n",
       "    </tr>\n",
       "    <tr>\n",
       "      <th>std</th>\n",
       "      <td>124256.102309</td>\n",
       "      <td>35021.966081</td>\n",
       "      <td>16530.282073</td>\n",
       "    </tr>\n",
       "    <tr>\n",
       "      <th>min</th>\n",
       "      <td>4.000000</td>\n",
       "      <td>73942.000000</td>\n",
       "      <td>1.000000</td>\n",
       "    </tr>\n",
       "    <tr>\n",
       "      <th>25%</th>\n",
       "      <td>39646.750000</td>\n",
       "      <td>73942.000000</td>\n",
       "      <td>1491.000000</td>\n",
       "    </tr>\n",
       "    <tr>\n",
       "      <th>50%</th>\n",
       "      <td>82558.500000</td>\n",
       "      <td>74002.000000</td>\n",
       "      <td>3811.000000</td>\n",
       "    </tr>\n",
       "    <tr>\n",
       "      <th>75%</th>\n",
       "      <td>283514.750000</td>\n",
       "      <td>76569.000000</td>\n",
       "      <td>13446.000000</td>\n",
       "    </tr>\n",
       "    <tr>\n",
       "      <th>max</th>\n",
       "      <td>386368.000000</td>\n",
       "      <td>343572.000000</td>\n",
       "      <td>343568.000000</td>\n",
       "    </tr>\n",
       "  </tbody>\n",
       "</table>\n",
       "</div>"
      ],
      "text/plain": [
       "                  id      offenseId        courtId\n",
       "count   49978.000000   41505.000000   47504.000000\n",
       "mean   138816.287807   82377.901650   11121.930195\n",
       "std    124256.102309   35021.966081   16530.282073\n",
       "min         4.000000   73942.000000       1.000000\n",
       "25%     39646.750000   73942.000000    1491.000000\n",
       "50%     82558.500000   74002.000000    3811.000000\n",
       "75%    283514.750000   76569.000000   13446.000000\n",
       "max    386368.000000  343572.000000  343568.000000"
      ]
     },
     "execution_count": 16,
     "metadata": {},
     "output_type": "execute_result"
    }
   ],
   "source": [
    "df.describe()"
   ]
  },
  {
   "cell_type": "code",
   "execution_count": 17,
   "metadata": {},
   "outputs": [
    {
     "data": {
      "text/plain": [
       "id                                  0\n",
       "punishmentType                      0\n",
       "entityType                          0\n",
       "indLastNameOnOffenseMoment          4\n",
       "indFirstNameOnOffenseMoment         4\n",
       "indPatronymicOnOffenseMoment      109\n",
       "offenseId                        8473\n",
       "offenseName                         4\n",
       "punishment                       3987\n",
       "courtCaseNumber                  3854\n",
       "sentenceDate                     2472\n",
       "sentenceNumber                   7186\n",
       "punishmentStart                  2898\n",
       "courtId                          2474\n",
       "courtName                        2474\n",
       "codexArticles                    2535\n",
       "decreeDate                      47507\n",
       "decreeNumber                    47506\n",
       "dtype: int64"
      ]
     },
     "execution_count": 17,
     "metadata": {},
     "output_type": "execute_result"
    }
   ],
   "source": [
    "df.isnull().sum()"
   ]
  },
  {
   "cell_type": "code",
   "execution_count": 18,
   "metadata": {},
   "outputs": [],
   "source": [
    "# Converting date from object to date format and extracting information from cells with JSON/dict\n",
    "df['sentenceDate'] = pd.to_datetime(df['sentenceDate'], errors =\"coerce\") \n",
    "df['punishmentStart'] = pd.to_datetime(df['punishmentStart'], errors =\"coerce\") \n",
    "\n",
    "df['punishmentType'] = df['punishmentType'].apply(lambda x: x['name'])\n",
    "df['entityType'] = df['entityType'].apply(lambda x: x['name'])\n",
    "df[\"codexArticles\"] = df[\"codexArticles\"].apply(\n",
    "    lambda x: x[0].get(\"codexArticleName\", None) if isinstance(x, list) and isinstance(x[0], dict) else None)"
   ]
  },
  {
   "cell_type": "code",
   "execution_count": 19,
   "metadata": {},
   "outputs": [],
   "source": [
    "# After checking for gaps, I noticed that there were columns that had 90+% gaps, \n",
    "# it was decided to add them since they were not of great importance, replaced \"-\" symbols to NaN\n",
    "df.drop(labels=[\"id\", \"decreeNumber\", \"decreeDate\"], axis=1, inplace=True)\n",
    "df.replace(\"-\", \"NaN\", inplace=True)"
   ]
  },
  {
   "cell_type": "code",
   "execution_count": 20,
   "metadata": {},
   "outputs": [],
   "source": [
    "df['year'] = df['punishmentStart'].dt.year\n",
    "grouped = df.groupby(['year', 'punishmentType']).size().unstack(fill_value=0)"
   ]
  },
  {
   "cell_type": "code",
   "execution_count": 21,
   "metadata": {},
   "outputs": [
    {
     "data": {
      "text/plain": [
       "<Figure size 1000x600 with 0 Axes>"
      ]
     },
     "metadata": {},
     "output_type": "display_data"
    },
    {
     "data": {
      "image/png": "[encoded data removed]",
      "text/plain": [
       "<Figure size 640x480 with 1 Axes>"
      ]
     },
     "metadata": {},
     "output_type": "display_data"
    }
   ],
   "source": [
    "plt.figure(figsize=(10, 6))\n",
    "grouped.plot(kind='bar', stacked=True)\n",
    "plt.title('Кількість впроваджень по рокам')\n",
    "plt.xlabel('Роки')\n",
    "plt.ylabel('Кількість')\n",
    "plt.legend(title='Кількість впроваджень по рокам')\n",
    "plt.tight_layout()\n",
    "plt.show()"
   ]
  },
  {
   "cell_type": "code",
   "execution_count": null,
   "metadata": {},
   "outputs": [],
   "source": [
    "# save output db file in csv\n",
    "# df.to_csv(\"db.csv\", index=False, encoding=\"utf-8-sig\")"
   ]
  },
  {
   "cell_type": "code",
   "execution_count": null,
   "metadata": {},
   "outputs": [],
   "source": [
    "# 123"
   ]
  }
 ],
 "metadata": {
  "kernelspec": {
   "display_name": ".venv",
   "language": "python",
   "name": "python3"
  },
  "language_info": {
   "codemirror_mode": {
    "name": "ipython",
    "version": 3
   },
   "file_extension": ".py",
   "mimetype": "text/x-python",
   "name": "python",
   "nbconvert_exporter": "python",
   "pygments_lexer": "ipython3",
   "version": "3.13.0"
  }
 },
 "nbformat": 4,
 "nbformat_minor": 4
}
